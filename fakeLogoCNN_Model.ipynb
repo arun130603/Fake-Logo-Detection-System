{
 "cells": [
  {
   "cell_type": "code",
   "execution_count": 36,
   "metadata": {},
   "outputs": [],
   "source": [
    "import pandas as pd\n",
    "import numpy as np \n",
    "from PIL import Image\n",
    "from sklearn.model_selection import train_test_split\n",
    "from sklearn.preprocessing import LabelEncoder\n",
    "from keras.utils import to_categorical"
   ]
  },
  {
   "cell_type": "code",
   "execution_count": 37,
   "metadata": {},
   "outputs": [
    {
     "data": {
      "text/html": [
       "<div>\n",
       "<style scoped>\n",
       "    .dataframe tbody tr th:only-of-type {\n",
       "        vertical-align: middle;\n",
       "    }\n",
       "\n",
       "    .dataframe tbody tr th {\n",
       "        vertical-align: top;\n",
       "    }\n",
       "\n",
       "    .dataframe thead th {\n",
       "        text-align: right;\n",
       "    }\n",
       "</style>\n",
       "<table border=\"1\" class=\"dataframe\">\n",
       "  <thead>\n",
       "    <tr style=\"text-align: right;\">\n",
       "      <th></th>\n",
       "      <th>Filename</th>\n",
       "      <th>Brand Name</th>\n",
       "      <th>Label</th>\n",
       "    </tr>\n",
       "  </thead>\n",
       "  <tbody>\n",
       "    <tr>\n",
       "      <th>0</th>\n",
       "      <td>output\\Cowbell\\000001.jpg</td>\n",
       "      <td>Cowbell</td>\n",
       "      <td>Genuine</td>\n",
       "    </tr>\n",
       "    <tr>\n",
       "      <th>1</th>\n",
       "      <td>genLogoOutput\\Rolex\\000003.jpg</td>\n",
       "      <td>Rolex</td>\n",
       "      <td>Fake</td>\n",
       "    </tr>\n",
       "    <tr>\n",
       "      <th>2</th>\n",
       "      <td>output\\PlayStation\\000005.jpg</td>\n",
       "      <td>PlayStation</td>\n",
       "      <td>Genuine</td>\n",
       "    </tr>\n",
       "    <tr>\n",
       "      <th>3</th>\n",
       "      <td>output\\YouTube\\000004.jpg</td>\n",
       "      <td>YouTube</td>\n",
       "      <td>Genuine</td>\n",
       "    </tr>\n",
       "    <tr>\n",
       "      <th>4</th>\n",
       "      <td>genLogoOutput\\Lays\\000004.jpg</td>\n",
       "      <td>Lays</td>\n",
       "      <td>Fake</td>\n",
       "    </tr>\n",
       "    <tr>\n",
       "      <th>...</th>\n",
       "      <td>...</td>\n",
       "      <td>...</td>\n",
       "      <td>...</td>\n",
       "    </tr>\n",
       "    <tr>\n",
       "      <th>820</th>\n",
       "      <td>output\\Google\\000002.jpg</td>\n",
       "      <td>Google</td>\n",
       "      <td>Genuine</td>\n",
       "    </tr>\n",
       "    <tr>\n",
       "      <th>821</th>\n",
       "      <td>output\\Nescafe\\000004.jpg</td>\n",
       "      <td>Nescafe</td>\n",
       "      <td>Genuine</td>\n",
       "    </tr>\n",
       "    <tr>\n",
       "      <th>822</th>\n",
       "      <td>genLogoOutput\\Lays\\000003.jpg</td>\n",
       "      <td>Lays</td>\n",
       "      <td>Fake</td>\n",
       "    </tr>\n",
       "    <tr>\n",
       "      <th>823</th>\n",
       "      <td>genLogoOutput\\Gillette\\scal_000002.jpg</td>\n",
       "      <td>Gillette</td>\n",
       "      <td>Fake</td>\n",
       "    </tr>\n",
       "    <tr>\n",
       "      <th>824</th>\n",
       "      <td>genLogoOutput\\Gillette\\scal_000003.jpg</td>\n",
       "      <td>Gillette</td>\n",
       "      <td>Fake</td>\n",
       "    </tr>\n",
       "  </tbody>\n",
       "</table>\n",
       "<p>825 rows × 3 columns</p>\n",
       "</div>"
      ],
      "text/plain": [
       "                                   Filename   Brand Name    Label\n",
       "0                 output\\Cowbell\\000001.jpg      Cowbell  Genuine\n",
       "1            genLogoOutput\\Rolex\\000003.jpg        Rolex     Fake\n",
       "2             output\\PlayStation\\000005.jpg  PlayStation  Genuine\n",
       "3                 output\\YouTube\\000004.jpg      YouTube  Genuine\n",
       "4             genLogoOutput\\Lays\\000004.jpg         Lays     Fake\n",
       "..                                      ...          ...      ...\n",
       "820                output\\Google\\000002.jpg       Google  Genuine\n",
       "821               output\\Nescafe\\000004.jpg      Nescafe  Genuine\n",
       "822           genLogoOutput\\Lays\\000003.jpg         Lays     Fake\n",
       "823  genLogoOutput\\Gillette\\scal_000002.jpg     Gillette     Fake\n",
       "824  genLogoOutput\\Gillette\\scal_000003.jpg     Gillette     Fake\n",
       "\n",
       "[825 rows x 3 columns]"
      ]
     },
     "execution_count": 37,
     "metadata": {},
     "output_type": "execute_result"
    }
   ],
   "source": [
    "df = pd.read_csv(\"C:/Users/chnvd/OneDrive/Desktop/Fake Logo Detection/file_mapping.csv\")\n",
    "df = df[['Filename','Brand Name','Label']]\n",
    "df"
   ]
  },
  {
   "cell_type": "code",
   "execution_count": 38,
   "metadata": {},
   "outputs": [
    {
     "data": {
      "text/plain": [
       "['Bic',\n",
       " 'Samsung',\n",
       " 'Pepsi',\n",
       " 'Lays',\n",
       " 'Mars',\n",
       " 'MnM',\n",
       " 'Mtn dew',\n",
       " 'Oreo',\n",
       " 'Heinz',\n",
       " 'Marvel',\n",
       " 'PlayStation',\n",
       " 'Chevrolet',\n",
       " 'Burger King',\n",
       " 'Hp',\n",
       " 'Fila',\n",
       " 'Microsoft',\n",
       " 'Chrome',\n",
       " 'NASA',\n",
       " 'Reebok',\n",
       " 'Oral b',\n",
       " 'Cowbell',\n",
       " 'Peak milk',\n",
       " 'Twitter',\n",
       " 'Google',\n",
       " 'Adidas',\n",
       " 'Android',\n",
       " 'Nutella',\n",
       " 'Puma',\n",
       " 'Pringles',\n",
       " 'Sprite',\n",
       " 'Tesla',\n",
       " 'Netflix',\n",
       " 'Zara',\n",
       " 'Huawei',\n",
       " 'YouTube',\n",
       " 'Lipton',\n",
       " 'Nestle',\n",
       " 'Nescafe',\n",
       " 'Krisspy Kreme',\n",
       " 'Mtn',\n",
       " 'Nestle milo',\n",
       " 'Guinness',\n",
       " 'Goya oil',\n",
       " 'Gillette',\n",
       " 'Starbucks',\n",
       " 'Nike',\n",
       " 'Dominos',\n",
       " 'McDonald',\n",
       " 'Coca Cola',\n",
       " 'Apple',\n",
       " 'Levis',\n",
       " 'Fila',\n",
       " 'Lg',\n",
       " 'Amazon',\n",
       " 'Ariel',\n",
       " 'Cadbury',\n",
       " 'Mercedes Benz',\n",
       " 'Rolex',\n",
       " 'Pepsi',\n",
       " 'Pay pal',\n",
       " 'Kfc',\n",
       " 'BMW',\n",
       " 'Honda',\n",
       " 'Instagram',\n",
       " 'Tiktok',\n",
       " 'Twitter']"
      ]
     },
     "execution_count": 38,
     "metadata": {},
     "output_type": "execute_result"
    }
   ],
   "source": [
    "text_file_path = \"C:/Users/chnvd/OneDrive/Desktop/Fake Logo Detection/Logos.txt\"\n",
    "with open(text_file_path,'r') as file:\n",
    "    brand_names = file.read().splitlines()\n",
    "brand_names"
   ]
  },
  {
   "cell_type": "code",
   "execution_count": 39,
   "metadata": {},
   "outputs": [
    {
     "data": {
      "text/html": [
       "<div>\n",
       "<style scoped>\n",
       "    .dataframe tbody tr th:only-of-type {\n",
       "        vertical-align: middle;\n",
       "    }\n",
       "\n",
       "    .dataframe tbody tr th {\n",
       "        vertical-align: top;\n",
       "    }\n",
       "\n",
       "    .dataframe thead th {\n",
       "        text-align: right;\n",
       "    }\n",
       "</style>\n",
       "<table border=\"1\" class=\"dataframe\">\n",
       "  <thead>\n",
       "    <tr style=\"text-align: right;\">\n",
       "      <th></th>\n",
       "      <th>Filename</th>\n",
       "      <th>Brand Name</th>\n",
       "      <th>Label</th>\n",
       "    </tr>\n",
       "  </thead>\n",
       "  <tbody>\n",
       "    <tr>\n",
       "      <th>0</th>\n",
       "      <td>output\\Cowbell\\000001.jpg</td>\n",
       "      <td>Cowbell</td>\n",
       "      <td>1</td>\n",
       "    </tr>\n",
       "    <tr>\n",
       "      <th>1</th>\n",
       "      <td>genLogoOutput\\Rolex\\000003.jpg</td>\n",
       "      <td>Rolex</td>\n",
       "      <td>0</td>\n",
       "    </tr>\n",
       "    <tr>\n",
       "      <th>2</th>\n",
       "      <td>output\\PlayStation\\000005.jpg</td>\n",
       "      <td>PlayStation</td>\n",
       "      <td>1</td>\n",
       "    </tr>\n",
       "    <tr>\n",
       "      <th>3</th>\n",
       "      <td>output\\YouTube\\000004.jpg</td>\n",
       "      <td>YouTube</td>\n",
       "      <td>1</td>\n",
       "    </tr>\n",
       "    <tr>\n",
       "      <th>4</th>\n",
       "      <td>genLogoOutput\\Lays\\000004.jpg</td>\n",
       "      <td>Lays</td>\n",
       "      <td>0</td>\n",
       "    </tr>\n",
       "  </tbody>\n",
       "</table>\n",
       "</div>"
      ],
      "text/plain": [
       "                         Filename   Brand Name  Label\n",
       "0       output\\Cowbell\\000001.jpg      Cowbell      1\n",
       "1  genLogoOutput\\Rolex\\000003.jpg        Rolex      0\n",
       "2   output\\PlayStation\\000005.jpg  PlayStation      1\n",
       "3       output\\YouTube\\000004.jpg      YouTube      1\n",
       "4   genLogoOutput\\Lays\\000004.jpg         Lays      0"
      ]
     },
     "execution_count": 39,
     "metadata": {},
     "output_type": "execute_result"
    }
   ],
   "source": [
    "label_encoder = LabelEncoder()\n",
    "df['Label'] = label_encoder.fit_transform(df['Label'])\n",
    "df.head()"
   ]
  },
  {
   "cell_type": "code",
   "execution_count": 40,
   "metadata": {},
   "outputs": [],
   "source": [
    "train_df, test_df = train_test_split(df, test_size=0.2, stratify=df['Brand Name'], random_state=42)"
   ]
  },
  {
   "cell_type": "code",
   "execution_count": 41,
   "metadata": {},
   "outputs": [
    {
     "data": {
      "text/html": [
       "<div>\n",
       "<style scoped>\n",
       "    .dataframe tbody tr th:only-of-type {\n",
       "        vertical-align: middle;\n",
       "    }\n",
       "\n",
       "    .dataframe tbody tr th {\n",
       "        vertical-align: top;\n",
       "    }\n",
       "\n",
       "    .dataframe thead th {\n",
       "        text-align: right;\n",
       "    }\n",
       "</style>\n",
       "<table border=\"1\" class=\"dataframe\">\n",
       "  <thead>\n",
       "    <tr style=\"text-align: right;\">\n",
       "      <th></th>\n",
       "      <th>Filename</th>\n",
       "      <th>Brand Name</th>\n",
       "      <th>Label</th>\n",
       "    </tr>\n",
       "  </thead>\n",
       "  <tbody>\n",
       "    <tr>\n",
       "      <th>289</th>\n",
       "      <td>genLogoOutput\\Lays\\000001.jpg</td>\n",
       "      <td>Lays</td>\n",
       "      <td>0</td>\n",
       "    </tr>\n",
       "    <tr>\n",
       "      <th>77</th>\n",
       "      <td>genLogoOutput\\Mtn\\scal_000002.jpg</td>\n",
       "      <td>Mtn</td>\n",
       "      <td>0</td>\n",
       "    </tr>\n",
       "    <tr>\n",
       "      <th>577</th>\n",
       "      <td>genLogoOutput\\Nutella\\000001.jpg</td>\n",
       "      <td>Nutella</td>\n",
       "      <td>0</td>\n",
       "    </tr>\n",
       "    <tr>\n",
       "      <th>590</th>\n",
       "      <td>genLogoOutput\\McDonald\\scal_000003.jpg</td>\n",
       "      <td>McDonald</td>\n",
       "      <td>0</td>\n",
       "    </tr>\n",
       "    <tr>\n",
       "      <th>434</th>\n",
       "      <td>genLogoOutput\\Krisspy Kreme\\scal_000003.jpg</td>\n",
       "      <td>Krisspy Kreme</td>\n",
       "      <td>0</td>\n",
       "    </tr>\n",
       "  </tbody>\n",
       "</table>\n",
       "</div>"
      ],
      "text/plain": [
       "                                        Filename     Brand Name  Label\n",
       "289                genLogoOutput\\Lays\\000001.jpg           Lays      0\n",
       "77             genLogoOutput\\Mtn\\scal_000002.jpg            Mtn      0\n",
       "577             genLogoOutput\\Nutella\\000001.jpg        Nutella      0\n",
       "590       genLogoOutput\\McDonald\\scal_000003.jpg       McDonald      0\n",
       "434  genLogoOutput\\Krisspy Kreme\\scal_000003.jpg  Krisspy Kreme      0"
      ]
     },
     "execution_count": 41,
     "metadata": {},
     "output_type": "execute_result"
    }
   ],
   "source": [
    "train_df.shape # (660,3)\n",
    "test_df.shape # (165,3)\n",
    "train_df.head()"
   ]
  },
  {
   "cell_type": "code",
   "execution_count": 42,
   "metadata": {},
   "outputs": [],
   "source": [
    "def load_and_preprocess_image(image_path, target_size=(224, 224)):\n",
    "    image = Image.open(image_path) # opens the image with specified path\n",
    "    image = image.resize(target_size) # resizes the image with target_size given \n",
    "    image_array = np.array(image) / 255.0  # Normalize pixel values\n",
    "    return image_array"
   ]
  },
  {
   "cell_type": "code",
   "execution_count": 43,
   "metadata": {},
   "outputs": [],
   "source": [
    "train_images = np.array([load_and_preprocess_image(img_path) for img_path in train_df['Filename']])\n",
    "test_images = np.array([load_and_preprocess_image(img_path) for img_path in test_df['Filename']])"
   ]
  },
  {
   "cell_type": "code",
   "execution_count": 44,
   "metadata": {},
   "outputs": [
    {
     "data": {
      "text/plain": [
       "(165, 224, 224, 3)"
      ]
     },
     "execution_count": 44,
     "metadata": {},
     "output_type": "execute_result"
    }
   ],
   "source": [
    "test_images.shape"
   ]
  },
  {
   "cell_type": "code",
   "execution_count": 45,
   "metadata": {},
   "outputs": [],
   "source": [
    "train_labels = train_df['Label'].values\n",
    "test_labels = test_df['Label'].values"
   ]
  },
  {
   "cell_type": "code",
   "execution_count": 46,
   "metadata": {},
   "outputs": [],
   "source": [
    "from keras.models import Sequential\n",
    "from keras.layers import Conv2D, MaxPooling2D, Dense, Flatten, Dropout"
   ]
  },
  {
   "cell_type": "code",
   "execution_count": 47,
   "metadata": {},
   "outputs": [],
   "source": [
    "model = Sequential()\n",
    "\n",
    "model.add(Conv2D(32,(3,3), activation = 'relu', input_shape = (224,224,3)))\n",
    "model.add(MaxPooling2D(pool_size=(2,2)))\n",
    "\n",
    "model.add(Conv2D(64,(3,3), activation = 'relu'))\n",
    "model.add(MaxPooling2D(pool_size=(2,2)))\n",
    "\n",
    "model.add(Conv2D(128,(3,3), activation = 'relu'))\n",
    "model.add(MaxPooling2D(pool_size=(2,2)))\n",
    "\n",
    "model.add(Flatten())\n",
    "\n",
    "model.add(Dense(128,activation='relu'))\n",
    "model.add(Dropout(0.5))\n",
    "model.add(Dense(1,activation='sigmoid'))\n",
    "\n",
    "model.compile(optimizer='adam', loss='binary_crossentropy', metrics=['accuracy'])"
   ]
  },
  {
   "cell_type": "code",
   "execution_count": 49,
   "metadata": {},
   "outputs": [
    {
     "name": "stdout",
     "output_type": "stream",
     "text": [
      "Epoch 1/10\n",
      "21/21 [==============================] - 11s 518ms/step - loss: 0.4916 - accuracy: 0.7015 - val_loss: 0.4473 - val_accuracy: 0.7333\n",
      "Epoch 2/10\n",
      "21/21 [==============================] - 11s 507ms/step - loss: 0.4580 - accuracy: 0.7515 - val_loss: 0.4214 - val_accuracy: 0.7758\n",
      "Epoch 3/10\n",
      "21/21 [==============================] - 11s 511ms/step - loss: 0.4278 - accuracy: 0.7985 - val_loss: 0.4398 - val_accuracy: 0.7636\n",
      "Epoch 4/10\n",
      "21/21 [==============================] - 11s 514ms/step - loss: 0.3825 - accuracy: 0.8364 - val_loss: 0.3882 - val_accuracy: 0.8242\n",
      "Epoch 5/10\n",
      "21/21 [==============================] - 11s 503ms/step - loss: 0.3283 - accuracy: 0.8606 - val_loss: 0.2987 - val_accuracy: 0.8909\n",
      "Epoch 6/10\n",
      "21/21 [==============================] - 10s 501ms/step - loss: 0.2526 - accuracy: 0.8894 - val_loss: 0.5306 - val_accuracy: 0.7273\n",
      "Epoch 7/10\n",
      "21/21 [==============================] - 11s 504ms/step - loss: 0.2988 - accuracy: 0.8621 - val_loss: 0.2956 - val_accuracy: 0.8909\n",
      "Epoch 8/10\n",
      "21/21 [==============================] - 11s 504ms/step - loss: 0.2029 - accuracy: 0.9303 - val_loss: 0.2900 - val_accuracy: 0.8848\n",
      "Epoch 9/10\n",
      "21/21 [==============================] - 11s 503ms/step - loss: 0.1405 - accuracy: 0.9485 - val_loss: 0.4841 - val_accuracy: 0.8364\n",
      "Epoch 10/10\n",
      "21/21 [==============================] - 11s 502ms/step - loss: 0.1198 - accuracy: 0.9636 - val_loss: 0.1868 - val_accuracy: 0.9333\n"
     ]
    },
    {
     "data": {
      "text/plain": [
       "<keras.src.callbacks.History at 0x2202ea2a990>"
      ]
     },
     "execution_count": 49,
     "metadata": {},
     "output_type": "execute_result"
    }
   ],
   "source": [
    "model.fit(train_images, train_labels, epochs=10, batch_size=32, validation_data=(test_images, test_labels))"
   ]
  },
  {
   "cell_type": "code",
   "execution_count": 50,
   "metadata": {},
   "outputs": [
    {
     "name": "stdout",
     "output_type": "stream",
     "text": [
      "6/6 [==============================] - 1s 120ms/step - loss: 0.1868 - accuracy: 0.9333\n",
      "Test Loss: 0.18676941096782684, Test Accuracy: 0.9333333373069763\n"
     ]
    }
   ],
   "source": [
    "loss, accuracy = model.evaluate(test_images, test_labels)\n",
    "print(f'Test Loss: {loss}, Test Accuracy: {accuracy}')"
   ]
  },
  {
   "cell_type": "code",
   "execution_count": 52,
   "metadata": {},
   "outputs": [
    {
     "name": "stdout",
     "output_type": "stream",
     "text": [
      "1/1 [==============================] - 0s 107ms/step\n",
      "Genuine\n"
     ]
    }
   ],
   "source": [
    "#new_images_paths = ['genLogoOutput/Rolex/000003.jpg','output/PlayStation/000005.jpg','output/YouTube/000004.jpg','genLogoOutput/Lays/000004.jpg','output/Tiktok/000004.jpg']\n",
    "new_image_path = 'C:/Users/chnvd/OneDrive/Desktop/Fake Logo Detection/genLogoOutput/Adidas/f74fe6235856d9f46a56baa02ab47165.jpg'\n",
    "new_image = np.array([load_and_preprocess_image(new_image_path)])\n",
    "\n",
    "predictions = model.predict(new_image)\n",
    "\n",
    "classes_prediction = (predictions >= 0.8).astype(int)\n",
    "for prediction in classes_prediction:\n",
    "    if prediction==1:\n",
    "        print(\"Genuine\")\n",
    "    else:\n",
    "        print(\"Fake\")"
   ]
  },
  {
   "cell_type": "code",
   "execution_count": null,
   "metadata": {},
   "outputs": [],
   "source": []
  }
 ],
 "metadata": {
  "kernelspec": {
   "display_name": "Python 3",
   "language": "python",
   "name": "python3"
  },
  "language_info": {
   "codemirror_mode": {
    "name": "ipython",
    "version": 3
   },
   "file_extension": ".py",
   "mimetype": "text/x-python",
   "name": "python",
   "nbconvert_exporter": "python",
   "pygments_lexer": "ipython3",
   "version": "3.11.7"
  }
 },
 "nbformat": 4,
 "nbformat_minor": 2
}
